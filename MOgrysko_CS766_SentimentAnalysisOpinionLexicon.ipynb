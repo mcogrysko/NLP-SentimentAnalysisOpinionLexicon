{
 "cells": [
  {
   "cell_type": "markdown",
   "id": "fd1614b3",
   "metadata": {},
   "source": [
    "### Mike Ogrysko\n",
    "### CS 766 Information Retrieval and Natural Language Processing\n",
    "\n",
    "Processing the IMDB movie reviews for sentiment analysis with opinion lexicon\n",
    "- Opinion Lexicon from the source: http://www.cs.uic.edu/~liub/FBS/sentiment-analysis.html\n",
    "- Quantize the positive and negative frequencies to 0 and 1\n",
    "- First 1000 words in Tf-Idf features and compute 10-fold CV classification evaluation performance\n",
    "- First 1000 TFIDF features with counts of positive and negative opinions\n",
    "- Compare the ranked features"
   ]
  },
  {
   "cell_type": "code",
   "execution_count": 1,
   "id": "77e49b6e",
   "metadata": {},
   "outputs": [],
   "source": [
    "import csv\n",
    "from collections import defaultdict\n",
    "%matplotlib inline\n",
    "import matplotlib.pyplot as plt\n",
    "import numpy as np\n",
    "import pandas as pd\n",
    "from sklearn.preprocessing import Normalizer\n",
    "from sklearn.metrics import accuracy_score\n",
    "from sklearn.feature_extraction.text import CountVectorizer, TfidfTransformer, TfidfVectorizer\n",
    "from sklearn.pipeline import Pipeline\n",
    "from sklearn.svm import LinearSVC\n",
    "from sklearn.model_selection import StratifiedKFold\n",
    "from string import punctuation\n",
    "from nltk.corpus import stopwords\n",
    "from nltk.stem import WordNetLemmatizer\n",
    "import nltk\n",
    "from nltk import word_tokenize\n",
    "from nltk.tokenize import wordpunct_tokenize\n",
    "import seaborn as sns\n",
    "import re\n",
    "from math import log"
   ]
  },
  {
   "cell_type": "markdown",
   "id": "61f4b1c3",
   "metadata": {},
   "source": [
    "**Quantize the positive and negative frequencies to 0 and 1**"
   ]
  },
  {
   "cell_type": "code",
   "execution_count": 2,
   "id": "00b77c59",
   "metadata": {},
   "outputs": [],
   "source": [
    "#combination of stop words and punctuations, also get rid of br\n",
    "stop_words = stopwords.words('english') + list(punctuation)\n",
    "stop_words_set = set(stop_words) | set(['br']) | set(['p']) | set(['the']) | set(['this']) | set(['etc'])\n",
    "\n",
    "#develop tokenizer\n",
    "def tokenize(text):\n",
    "    terms = word_tokenize(text)\n",
    "    #all lower case\n",
    "    terms = [w.lower() for w in terms]\n",
    "    #filter stop words\n",
    "    terms = [w for w in terms if w not in stop_words_set and not w.isdigit()]\n",
    "    #regex for contractions and other special character strings\n",
    "    terms = [w for w in terms if not re.search(r'^\\W+|\\w\\'\\w+|\\'\\w+$', w)]\n",
    "    terms = [w for w in terms if not re.search(r'^[^a-z]+$', w)]\n",
    "    #regex for words two letters or less and numbers\n",
    "    terms = [w for w in terms if not re.search(r'^\\b\\w{1,2}\\b|(?<!\\S)\\d+(?!\\S)$', w)]\n",
    "    #lemmatize\n",
    "    lemmatizer = WordNetLemmatizer()\n",
    "    terms = [lemmatizer.lemmatize(w, 'n') for w in terms]\n",
    "    return terms\n"
   ]
  },
  {
   "cell_type": "code",
   "execution_count": 3,
   "id": "08e60267",
   "metadata": {},
   "outputs": [
    {
     "name": "stdout",
     "output_type": "stream",
     "text": [
      "Total reviews loaded 50000\n",
      "Total sentiments loaded 50000\n"
     ]
    }
   ],
   "source": [
    "Reviews, Sentiments = [], []\n",
    "\n",
    "with open('movie_data.csv','r', encoding='utf8') as fin:\n",
    "    reader = csv.reader(fin, delimiter=',', quotechar='\"')\n",
    "    header = next(reader)\n",
    "    for i, line in enumerate(reader):\n",
    "        Reviews += [line[0]]\n",
    "        Sentiments +=[int(line[1])]\n",
    "\n",
    "N=len(Reviews)\n",
    "M=len(Sentiments)\n",
    "print('Total reviews loaded', N)\n",
    "print('Total sentiments loaded', M)\n"
   ]
  },
  {
   "cell_type": "code",
   "execution_count": 4,
   "id": "c684024f",
   "metadata": {},
   "outputs": [],
   "source": [
    "#tokenize reviews\n",
    "Reviews_Tok=[tokenize(review) for review in Reviews]\n",
    "    "
   ]
  },
  {
   "cell_type": "code",
   "execution_count": 5,
   "id": "ec8151fb",
   "metadata": {},
   "outputs": [],
   "source": [
    "#create positive dict from list\n",
    "pos_dict = {}\n",
    "pos_file = open(\"positive-words.txt\", \"r\")\n",
    "pos_content = pos_file.readlines()\n",
    "for i,term in enumerate(pos_content[30:]):\n",
    "    pos_dict[term.strip('\\n')] = i\n"
   ]
  },
  {
   "cell_type": "code",
   "execution_count": 6,
   "id": "b4cfc7cd",
   "metadata": {},
   "outputs": [],
   "source": [
    "#create neg dict from list\n",
    "neg_dict = {}\n",
    "neg_file = open(\"negative-words.txt\", \"r\", encoding = \"ISO-8859-1\")\n",
    "neg_content = neg_file.readlines()\n",
    "for i,term in enumerate(neg_content[31:]):\n",
    "    neg_dict[term.strip('\\n')] = i\n"
   ]
  },
  {
   "cell_type": "code",
   "execution_count": 7,
   "id": "425128f7",
   "metadata": {},
   "outputs": [
    {
     "name": "stdout",
     "output_type": "stream",
     "text": [
      "CPU times: user 714 ms, sys: 5.43 ms, total: 719 ms\n",
      "Wall time: 719 ms\n"
     ]
    }
   ],
   "source": [
    "%%time\n",
    "#initiate 50kx2 array\n",
    "opinion_score = np.zeros([N, 2], dtype = int)\n",
    "\n",
    "#get counts of positive and negative terms\n",
    "for i, review in enumerate(Reviews_Tok):\n",
    "    #initialize counts\n",
    "    pos_count = 0\n",
    "    neg_count = 0\n",
    "    for term in review:\n",
    "        if term in pos_dict:\n",
    "            pos_count += 1\n",
    "        if term in neg_dict:\n",
    "            neg_count += 1\n",
    "    opinion_score[i][0] = pos_count\n",
    "    opinion_score[i][1] = neg_count\n"
   ]
  },
  {
   "cell_type": "code",
   "execution_count": 8,
   "id": "cac7ab07",
   "metadata": {},
   "outputs": [
    {
     "name": "stdout",
     "output_type": "stream",
     "text": [
      "Review 1 = 8 pos 13 neg\n",
      "Review 2 = 13 pos 10 neg\n",
      "Review 3 = 13 pos 20 neg\n"
     ]
    }
   ],
   "source": [
    "#sanity check\n",
    "print(f'Review 1 = {opinion_score[0][0]} pos {opinion_score[0][1]} neg')\n",
    "print(f'Review 2 = {opinion_score[1][0]} pos {opinion_score[1][1]} neg')\n",
    "print(f'Review 3 = {opinion_score[2][0]} pos {opinion_score[2][1]} neg')"
   ]
  },
  {
   "cell_type": "code",
   "execution_count": 9,
   "id": "79dd85c5",
   "metadata": {},
   "outputs": [],
   "source": [
    "#create prediction list\n",
    "predict = [1 if opinion_score[i][0] >= opinion_score[i][1] else 0 for i in range(N)]"
   ]
  },
  {
   "cell_type": "code",
   "execution_count": 10,
   "id": "7887f503",
   "metadata": {},
   "outputs": [
    {
     "name": "stdout",
     "output_type": "stream",
     "text": [
      "Sentiment review 1 = 0\n",
      "Sentiment review 2 = 1\n",
      "Sentiment review 3 = 0\n"
     ]
    }
   ],
   "source": [
    "#sanity check\n",
    "print(f'Sentiment review 1 = {predict[0]}')\n",
    "print(f'Sentiment review 2 = {predict[1]}')\n",
    "print(f'Sentiment review 3 = {predict[2]}')"
   ]
  },
  {
   "cell_type": "code",
   "execution_count": 11,
   "id": "adb985dc",
   "metadata": {},
   "outputs": [
    {
     "name": "stdout",
     "output_type": "stream",
     "text": [
      "Accuracy Score: 0.72476\n",
      "# Correct: 36238\n"
     ]
    }
   ],
   "source": [
    "#generate accuracy and count correct\n",
    "print(f\"Accuracy Score: {accuracy_score(Sentiments, predict)}\")\n",
    "print(f\"# Correct: {accuracy_score(Sentiments, predict, normalize=False)}\")"
   ]
  },
  {
   "cell_type": "markdown",
   "id": "fcc6b9a2",
   "metadata": {},
   "source": [
    "**First 1000 words in Tf-Idf features and compute 10-fold CV classification evaluation performance**"
   ]
  },
  {
   "cell_type": "code",
   "execution_count": 12,
   "id": "633262fb",
   "metadata": {},
   "outputs": [],
   "source": [
    "#tokenize reviews and put them back together as strings\n",
    "Review_tok_2 = []\n",
    "for review in Reviews:\n",
    "    rev = \"\"\n",
    "    terms = tokenize(review)\n",
    "    for term in terms:\n",
    "        rev += term + ' '\n",
    "    Review_tok_2.append(rev)"
   ]
  },
  {
   "cell_type": "code",
   "execution_count": 13,
   "id": "a8e4a48e",
   "metadata": {},
   "outputs": [],
   "source": [
    "#set tfidf with 1000 max features\n",
    "tfidf = TfidfVectorizer(max_features=1000)"
   ]
  },
  {
   "cell_type": "code",
   "execution_count": 14,
   "id": "25c04b06",
   "metadata": {},
   "outputs": [],
   "source": [
    "#svm classifer\n",
    "svm_lin_2 = Pipeline([('tfidf', tfidf), ('clf', LinearSVC(class_weight='balanced'))])"
   ]
  },
  {
   "cell_type": "code",
   "execution_count": 15,
   "id": "52b114c6",
   "metadata": {},
   "outputs": [],
   "source": [
    "#stratifiedKFold will require indexable data structure\n",
    "Revs = pd.Series(Review_tok_2)\n",
    "Sents = pd.Series(Sentiments)"
   ]
  },
  {
   "cell_type": "code",
   "execution_count": 16,
   "id": "5fa55a22",
   "metadata": {},
   "outputs": [],
   "source": [
    "#fn for stratified kfold\n",
    "def kfold_eval_docs(_clf, _Xdocs, _ydocs):\n",
    "    acc = []\n",
    "    kf = StratifiedKFold(n_splits=10, shuffle=False, random_state=None)\n",
    "    for train_index, test_index in kf.split(_Xdocs, _ydocs):\n",
    "        _clf.fit(_Xdocs[train_index], _ydocs[train_index])\n",
    "        y_pred = _clf.predict(_Xdocs[test_index])\n",
    "        acc += [accuracy_score(_ydocs[test_index], y_pred)]\n",
    "\n",
    "    return np.array(acc)"
   ]
  },
  {
   "cell_type": "code",
   "execution_count": 17,
   "id": "2700f3b5",
   "metadata": {},
   "outputs": [
    {
     "name": "stdout",
     "output_type": "stream",
     "text": [
      "Support Vector Machine (linear SVC) CV accuracy=0.863 0.004\n",
      "CPU times: user 34.6 s, sys: 560 ms, total: 35.2 s\n",
      "Wall time: 35.1 s\n"
     ]
    }
   ],
   "source": [
    "%%time\n",
    "#get accuracy using skfold\n",
    "acc = kfold_eval_docs(svm_lin_2, Revs, Sents)\n",
    "print(f'Support Vector Machine (linear SVC) CV accuracy={np.mean(acc):.3f} {np.std(acc):.3f}')"
   ]
  },
  {
   "cell_type": "markdown",
   "id": "efd6c4e3",
   "metadata": {},
   "source": [
    "**First 1000 TFIDF features with counts of positive and negative opinions**"
   ]
  },
  {
   "cell_type": "code",
   "execution_count": 18,
   "id": "c2bc1a04",
   "metadata": {},
   "outputs": [],
   "source": [
    "#normalize opinion score\n",
    "opinion_score_norm = Normalizer().transform(opinion_score)"
   ]
  },
  {
   "cell_type": "code",
   "execution_count": 19,
   "id": "8c3d95fb",
   "metadata": {},
   "outputs": [],
   "source": [
    "#set tfidf with 1000 max features\n",
    "tfidf = TfidfVectorizer(max_features=1000)"
   ]
  },
  {
   "cell_type": "code",
   "execution_count": 20,
   "id": "293fefa3",
   "metadata": {},
   "outputs": [],
   "source": [
    "#fit reviews to tfidf\n",
    "X_tfidf = tfidf.fit_transform(Review_tok_2)"
   ]
  },
  {
   "cell_type": "code",
   "execution_count": 21,
   "id": "bc0205dc",
   "metadata": {},
   "outputs": [],
   "source": [
    "#convert X_tfidf to array\n",
    "X_tfidf_arr = X_tfidf.toarray()"
   ]
  },
  {
   "cell_type": "code",
   "execution_count": 22,
   "id": "9fcd893f",
   "metadata": {},
   "outputs": [],
   "source": [
    "#combine X_tfidf and opinion_score\n",
    "X_tfidf_comb = np.append(X_tfidf_arr, opinion_score_norm, axis=1)"
   ]
  },
  {
   "cell_type": "code",
   "execution_count": 23,
   "id": "1ccb61a0",
   "metadata": {},
   "outputs": [],
   "source": [
    "#svm classifer\n",
    "svm_lin_3 = Pipeline([('clf', LinearSVC(class_weight='balanced'))])"
   ]
  },
  {
   "cell_type": "code",
   "execution_count": 24,
   "id": "d5f88541",
   "metadata": {},
   "outputs": [],
   "source": [
    "#stratifiedKFold will require indexable data structure\n",
    "Sents = pd.Series(Sentiments)"
   ]
  },
  {
   "cell_type": "code",
   "execution_count": 25,
   "id": "3788a0c9",
   "metadata": {},
   "outputs": [
    {
     "name": "stdout",
     "output_type": "stream",
     "text": [
      "Support Vector Machine (linear SVC) CV accuracy=0.867 0.004\n",
      "CPU times: user 18.3 s, sys: 2.74 s, total: 21 s\n",
      "Wall time: 11.3 s\n"
     ]
    }
   ],
   "source": [
    "%%time\n",
    "#get accuracy using skfold\n",
    "acc = kfold_eval_docs(svm_lin_3, X_tfidf_comb, Sents)\n",
    "print(f'Support Vector Machine (linear SVC) CV accuracy={np.mean(acc):.3f} {np.std(acc):.3f}')"
   ]
  },
  {
   "cell_type": "markdown",
   "id": "0db2d7a1",
   "metadata": {},
   "source": [
    "**Compare the ranked features**"
   ]
  },
  {
   "cell_type": "code",
   "execution_count": 26,
   "id": "855873d3",
   "metadata": {},
   "outputs": [],
   "source": [
    "#grab classifier\n",
    "classifier = svm_lin_2.named_steps['clf']\n",
    "#grab coefficients\n",
    "coef = classifier.coef_[0].ravel()\n",
    "#get the top coefs for each sentiment\n",
    "pos_coef = np.argsort(coef)[-10:]\n",
    "neg_coef = np.argsort(coef)[:10]"
   ]
  },
  {
   "cell_type": "code",
   "execution_count": 27,
   "id": "201eb8fe",
   "metadata": {},
   "outputs": [],
   "source": [
    "#get the feature names\n",
    "cv = svm_lin_2.named_steps['tfidf']\n",
    "feature_names = cv.get_feature_names_out()"
   ]
  },
  {
   "cell_type": "code",
   "execution_count": 28,
   "id": "f5aca5ec",
   "metadata": {},
   "outputs": [],
   "source": [
    "#get sentiment 1 features and coefficients\n",
    "feat1 = feature_names[pos_coef]\n",
    "coef1 = coef[pos_coef]\n",
    "\n",
    "#get sentiment 0 features and coefficients\n",
    "feat0 = feature_names[neg_coef]\n",
    "coef0 = coef[neg_coef]"
   ]
  },
  {
   "cell_type": "code",
   "execution_count": 29,
   "id": "57e93ef7",
   "metadata": {},
   "outputs": [],
   "source": [
    "#convert to dicts\n",
    "feat1_dict = {feat1[i]: coef1[i] for i in range(len(feat1))}\n",
    "feat0_dict = {feat0[i]: coef0[i] for i in range(len(feat0))}\n",
    "#sort dicts by value\n",
    "sort_feat1_dict = dict(sorted(feat1_dict.items(), key=lambda kv:kv[1],reverse=True))\n",
    "sort_feat0_dict = dict(sorted(feat0_dict.items(), key=lambda kv:kv[1],reverse=False))\n",
    "#convert dicts to lists\n",
    "sort_feat1_list = list(sort_feat1_dict.items())\n",
    "sort_feat0_list = list(sort_feat0_dict.items())"
   ]
  },
  {
   "cell_type": "code",
   "execution_count": 30,
   "id": "e6b7a12e",
   "metadata": {},
   "outputs": [],
   "source": [
    "#grab classifier\n",
    "classifier_3 = svm_lin_3.named_steps['clf']\n"
   ]
  },
  {
   "cell_type": "code",
   "execution_count": 31,
   "id": "0a7f827b",
   "metadata": {},
   "outputs": [],
   "source": [
    "#grab coefficients\n",
    "coef_3 = classifier_3.coef_[0].ravel()\n",
    "#get the top coefs for each sentiment\n",
    "pos_coef_3 = np.argsort(coef_3)[-10:]\n",
    "neg_coef_3 = np.argsort(coef_3)[:10]"
   ]
  },
  {
   "cell_type": "code",
   "execution_count": 32,
   "id": "59a42274",
   "metadata": {},
   "outputs": [],
   "source": [
    "#get the feature names\n",
    "#cv = svm_lin_2.named_steps['tfidf']\n",
    "feature_names = tfidf.get_feature_names_out()"
   ]
  },
  {
   "cell_type": "code",
   "execution_count": 33,
   "id": "8c2bbb2d",
   "metadata": {},
   "outputs": [],
   "source": [
    "#get sentiment 1 features and coefficients\n",
    "feat1_3 = feature_names[pos_coef]\n",
    "coef1_3 = coef[pos_coef]\n",
    "\n",
    "#get sentiment 0 features and coefficients\n",
    "feat0_3 = feature_names[neg_coef]\n",
    "coef0_3 = coef[neg_coef]"
   ]
  },
  {
   "cell_type": "code",
   "execution_count": 34,
   "id": "da9b1995",
   "metadata": {},
   "outputs": [],
   "source": [
    "#convert to dicts\n",
    "feat1_dict_3 = {feat1_3[i]: coef1_3[i] for i in range(len(feat1_3))}\n",
    "feat0_dict_3 = {feat0_3[i]: coef0_3[i] for i in range(len(feat0_3))}\n",
    "#sort dicts by value\n",
    "sort_feat1_dict_3 = dict(sorted(feat1_dict_3.items(), key=lambda kv:kv[1],reverse=True))\n",
    "sort_feat0_dict_3 = dict(sorted(feat0_dict_3.items(), key=lambda kv:kv[1],reverse=False))\n",
    "#convert dicts to lists\n",
    "sort_feat1_list_3 = list(sort_feat1_dict_3.items())\n",
    "sort_feat0_list_3 = list(sort_feat0_dict_3.items())"
   ]
  },
  {
   "cell_type": "code",
   "execution_count": 35,
   "id": "8adc97f0",
   "metadata": {},
   "outputs": [],
   "source": [
    "#build feature and importance lists for plots\n",
    "q2_feat = []\n",
    "q2_feat_imp = []\n",
    "q3_feat = []\n",
    "q3_feat_imp = []\n",
    "for i in range(10):\n",
    "    q2_feat.append(sort_feat1_list[i][0])\n",
    "    q2_feat_imp.append(sort_feat1_list[i][1])\n",
    "    q3_feat.append(sort_feat1_list_3[i][0])\n",
    "    q3_feat_imp.append(sort_feat1_list_3[i][1])\n",
    "for i in range(10):    \n",
    "    q2_feat.append(sort_feat0_list[i][0])\n",
    "    q2_feat_imp.append(sort_feat0_list[i][1])\n",
    "    q3_feat.append(sort_feat0_list_3[i][0])\n",
    "    q3_feat_imp.append(sort_feat0_list_3[i][1])\n",
    "    "
   ]
  },
  {
   "cell_type": "code",
   "execution_count": 36,
   "id": "34960b65",
   "metadata": {},
   "outputs": [],
   "source": [
    "#build color lists for plots\n",
    "q2_color = []\n",
    "q3_color = []\n",
    "for j in range(20):\n",
    "    if q2_feat_imp[j] > 0:\n",
    "        q2_color.append(\"green\")\n",
    "    if q2_feat_imp[j] <= 0:\n",
    "        q2_color.append(\"red\")\n",
    "    if q3_feat_imp[j] > 0:\n",
    "        q3_color.append(\"green\")\n",
    "    if q3_feat_imp[j] <= 0:\n",
    "        q3_color.append(\"red\")\n",
    "    "
   ]
  },
  {
   "cell_type": "code",
   "execution_count": 37,
   "id": "e89fe53c",
   "metadata": {},
   "outputs": [
    {
     "name": "stdout",
     "output_type": "stream",
     "text": [
      "\n",
      "\t\t\tFirst 1000 TFIDF features\n",
      "\tSentiment 1\t\t\tSentiment 0\n",
      "Importance\tTerm\t\tImportance\tTerm\n",
      "2.770550\texcellent       -4.647828\tworst\n",
      "2.232172\tperfect         -3.918829\twaste\n",
      "2.202225\tamazing         -3.659435\tawful\n",
      "2.191884\tgreat           -2.751775\tboring\n",
      "2.026107\tsuperb          -2.696372\tdull\n",
      "1.966061\twonderful       -2.606340\tpoorly\n",
      "1.871283\thilarious       -2.516190\tterrible\n",
      "1.825347\tfantastic       -2.478946\tfails\n",
      "1.812483\tperfectly       -2.420251\thorrible\n",
      "1.777352\tfavorite        -2.382722\tbad\n",
      "\t\t\tQuestion 3\n",
      "\tSentiment 1\t\t\tFirst 1000 TFIDF features with counts of positive and negative opinions\n",
      "Importance\tTerm\t\tImportance\tTerm\n",
      "2.770550\texpected        -4.647828\tworst\n",
      "2.232172\tperiod          -3.918829\twaste\n",
      "2.202225\tamazing         -3.659435\tbaby\n",
      "2.191884\tguy             -2.751775\tbox\n",
      "2.026107\tsupposed        -2.696372\tdvd\n",
      "1.966061\twonderful       -2.606340\tpositive\n",
      "1.871283\thollywood       -2.516190\tthe\n",
      "1.825347\tfather          -2.478946\tfamiliar\n",
      "1.812483\tperson          -2.420251\thouse\n",
      "1.777352\tfeeling         -2.382722\tbadly\n"
     ]
    }
   ],
   "source": [
    "#print top 10 for each sentiment\n",
    "print(f\"\\n\\t\\t\\tFirst 1000 TFIDF features\")\n",
    "print(f\"\\tSentiment 1\\t\\t\\tSentiment 0\")\n",
    "print(f\"Importance\\tTerm\\t\\tImportance\\tTerm\")\n",
    "for i in range(10):\n",
    "    print(f\"{sort_feat1_list[i][1]:3f}\\t{sort_feat1_list[i][0]:16s}{sort_feat0_list[i][1]:3f}\\t{sort_feat0_list[i][0]}\")\n",
    "    \n",
    "\n",
    "print(f\"\\t\\t\\tQuestion 3\")\n",
    "print(f\"\\tSentiment 1\\t\\t\\tFirst 1000 TFIDF features with counts of positive and negative opinions\")\n",
    "print(f\"Importance\\tTerm\\t\\tImportance\\tTerm\")\n",
    "for i in range(10):\n",
    "    print(f\"{sort_feat1_list_3[i][1]:3f}\\t{sort_feat1_list_3[i][0]:16s}{sort_feat0_list_3[i][1]:3f}\\t{sort_feat0_list_3[i][0]}\")\n"
   ]
  },
  {
   "cell_type": "code",
   "execution_count": 38,
   "id": "545eea54",
   "metadata": {},
   "outputs": [
    {
     "data": {
      "text/plain": [
       "Text(0.5, 0, 'Feature')"
      ]
     },
     "execution_count": 38,
     "metadata": {},
     "output_type": "execute_result"
    },
    {
     "data": {
      "image/png": "[encoded data removed]",
      "text/plain": [
       "<Figure size 1200x700 with 1 Axes>"
      ]
     },
     "metadata": {},
     "output_type": "display_data"
    }
   ],
   "source": [
    "#plot First 1000 TFIDF features results\n",
    "fig, ax = plt.subplots(1, 1, figsize=(12, 7))\n",
    "sns.barplot(x=q2_feat,\n",
    "            y=q2_feat_imp,\n",
    "           palette=q2_color)\n",
    "ax.set_xticklabels(ax.get_xticklabels(), rotation=45)\n",
    "ax.set_title(\"First 1000 TFIDF features - Top Features\")\n",
    "ax.set_ylabel(\"Importance\")\n",
    "ax.set_xlabel(\"Feature\")"
   ]
  },
  {
   "cell_type": "code",
   "execution_count": 39,
   "id": "ca6d3344",
   "metadata": {},
   "outputs": [
    {
     "data": {
      "text/plain": [
       "Text(0.5, 0, 'Feature')"
      ]
     },
     "execution_count": 39,
     "metadata": {},
     "output_type": "execute_result"
    },
    {
     "data": {
      "image/png": "[encoded data removed]",
      "text/plain": [
       "<Figure size 1200x700 with 1 Axes>"
      ]
     },
     "metadata": {},
     "output_type": "display_data"
    }
   ],
   "source": [
    "#plot First 1000 TFIDF features with counts of positive and negative opinions results\n",
    "fig, ax = plt.subplots(1, 1, figsize=(12, 7))\n",
    "sns.barplot(x=q3_feat,\n",
    "            y=q3_feat_imp,\n",
    "           palette=q3_color)\n",
    "ax.set_xticklabels(ax.get_xticklabels(), rotation=45)\n",
    "ax.set_title(\"First 1000 TFIDF features with counts of positive and negative opinions - Top Features\")\n",
    "ax.set_ylabel(\"Importance\")\n",
    "ax.set_xlabel(\"Feature\")"
   ]
  },
  {
   "cell_type": "code",
   "execution_count": null,
   "id": "18aa488f",
   "metadata": {},
   "outputs": [],
   "source": []
  },
  {
   "cell_type": "code",
   "execution_count": null,
   "id": "fae3b0fd",
   "metadata": {},
   "outputs": [],
   "source": []
  },
  {
   "cell_type": "code",
   "execution_count": null,
   "id": "6d9d8f20",
   "metadata": {},
   "outputs": [],
   "source": []
  }
 ],
 "metadata": {
  "kernelspec": {
   "display_name": "Python 3 (ipykernel)",
   "language": "python",
   "name": "python3"
  },
  "language_info": {
   "codemirror_mode": {
    "name": "ipython",
    "version": 3
   },
   "file_extension": ".py",
   "mimetype": "text/x-python",
   "name": "python",
   "nbconvert_exporter": "python",
   "pygments_lexer": "ipython3",
   "version": "3.10.8"
  }
 },
 "nbformat": 4,
 "nbformat_minor": 5
}
